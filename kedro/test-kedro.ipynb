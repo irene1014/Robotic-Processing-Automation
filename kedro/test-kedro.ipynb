{
 "cells": [
  {
   "cell_type": "code",
   "execution_count": 7,
   "metadata": {},
   "outputs": [],
   "source": [
    "#pip install kedro\n",
    "# Source: https://kedro.readthedocs.io/en/stable/02_get_started/03_hello_kedro.html"
   ]
  },
  {
   "cell_type": "code",
   "execution_count": 2,
   "metadata": {},
   "outputs": [],
   "source": [
    "from kedro.pipeline import node"
   ]
  },
  {
   "cell_type": "markdown",
   "metadata": {},
   "source": [
    "## Kedro \"hello world\""
   ]
  },
  {
   "cell_type": "code",
   "execution_count": 8,
   "metadata": {},
   "outputs": [
    {
     "name": "stdout",
     "output_type": "stream",
     "text": [
      "{'my_message': 'Hello Kedro!'}\n"
     ]
    }
   ],
   "source": [
    "\"\"\"Contents of hello_kedro.py\"\"\"\n",
    "from kedro.io import DataCatalog, MemoryDataSet\n",
    "from kedro.pipeline import node, Pipeline\n",
    "from kedro.runner import SequentialRunner\n",
    "\n",
    "# ==================================================================================================================\n",
    "# Prepare a data catalog\n",
    "data_catalog = DataCatalog({\"my_salutation\": MemoryDataSet()})\n",
    "'''\n",
    "Data Catalog: -A registry of all data sources that the project can use\n",
    "- Maps the names of node inputs and outputs as keys in a DataSet\n",
    "'''\n",
    "\n",
    "# ==================================================================================================================\n",
    "# Prepare first node\n",
    "'''\n",
    "Node: - A wrapper for a Python function that names the inputs and outputs of that function\n",
    "- A building block of a pipeline\n",
    "- Can be linked when the output of one node is the input of another\n",
    "'''\n",
    "def return_greeting():\n",
    "    return \"Hello\"\n",
    "\n",
    "\n",
    "return_greeting_node = node(return_greeting, inputs=None, outputs=\"my_salutation\")\n",
    "\n",
    "# Prepare second node\n",
    "def join_statements(greeting):\n",
    "    return f\"{greeting} Kedro!\"\n",
    "\n",
    "\n",
    "join_statements_node = node(\n",
    "    join_statements, inputs=\"my_salutation\", outputs=\"my_message\"\n",
    ")\n",
    "\n",
    "# ==================================================================================================================\n",
    "\n",
    "# Assemble nodes into a pipeline\n",
    "'''\n",
    "Pipeline:\n",
    "- Organises the dependencies and execution order of a collection of nodes, \n",
    "and connects inputs and outputs while keeping your code modular. \n",
    "- Determines the node execution order by resolving dependencies and \n",
    "does not necessarily run the nodes in the order in which they are passed in.\n",
    "'''\n",
    "pipeline = Pipeline([return_greeting_node, join_statements_node])\n",
    "\n",
    "# Create a runner to run the pipeline\n",
    "runner = SequentialRunner()\n",
    "\n",
    "# ==================================================================================================================\n",
    "# Run the pipeline\n",
    "print(runner.run(pipeline, data_catalog))\n"
   ]
  },
  {
   "cell_type": "markdown",
   "metadata": {},
   "source": [
    "## Kedro Iris Project"
   ]
  },
  {
   "cell_type": "code",
   "execution_count": null,
   "metadata": {},
   "outputs": [],
   "source": []
  }
 ],
 "metadata": {
  "kernelspec": {
   "display_name": "Python 3",
   "language": "python",
   "name": "python3"
  },
  "language_info": {
   "codemirror_mode": {
    "name": "ipython",
    "version": 3
   },
   "file_extension": ".py",
   "mimetype": "text/x-python",
   "name": "python",
   "nbconvert_exporter": "python",
   "pygments_lexer": "ipython3",
   "version": "3.7.0"
  }
 },
 "nbformat": 4,
 "nbformat_minor": 4
}
